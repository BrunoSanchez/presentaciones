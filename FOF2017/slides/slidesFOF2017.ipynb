{
 "cells": [
  {
   "cell_type": "markdown",
   "metadata": {
    "deletable": true,
    "editable": true,
    "slideshow": {
     "slide_type": "slide"
    }
   },
   "source": [
    "# <center> Transient Search with Difference Image Analysis </center>"
   ]
  },
  {
   "cell_type": "markdown",
   "metadata": {
    "deletable": true,
    "editable": true,
    "slideshow": {
     "slide_type": "fragment"
    }
   },
   "source": [
    "###  <center> Bruno Sánchez, M. Domínguez, M. Lares </center>\n",
    "\n",
    "####  <center> Friends of Friends Meeting </center>\n",
    "####  <center> Córdoba 2017 </center>"
   ]
  },
  {
   "cell_type": "markdown",
   "metadata": {
    "deletable": true,
    "editable": true,
    "slideshow": {
     "slide_type": "slide"
    }
   },
   "source": [
    "## A transient is...\n",
    "-------------------------------------\n",
    "\n",
    "**Any astrophysical phenomena which happens only once and then decays**\n",
    "\n",
    "\n",
    "<center><img src=\"plots/Supernova_Image_Light_Curve_Spectrum_Illustration_of.gif\" width=600></center>"
   ]
  },
  {
   "cell_type": "markdown",
   "metadata": {
    "deletable": true,
    "editable": true,
    "slideshow": {
     "slide_type": "subslide"
    }
   },
   "source": [
    "## A transient can be detected when...\n",
    "-------------------------------------\n",
    "\n",
    "**We have data for two different epochs, and we compare them directly**\n",
    "\n",
    "$\\Gamma \\ ( \\vec{D_{t_i}} \\ , \\vec{D_{t_{i+1}}} \\ )$\n",
    " ---------------------------------------------------"
   ]
  },
  {
   "cell_type": "markdown",
   "metadata": {
    "deletable": true,
    "editable": true,
    "slideshow": {
     "slide_type": "fragment"
    }
   },
   "source": [
    "*Our data are images taken from ground telescopes*"
   ]
  },
  {
   "cell_type": "markdown",
   "metadata": {
    "deletable": true,
    "editable": true,
    "slideshow": {
     "slide_type": "fragment"
    }
   },
   "source": [
    "\n",
    "**But what kind of function is $\\Gamma$??**\n"
   ]
  },
  {
   "cell_type": "markdown",
   "metadata": {
    "deletable": true,
    "editable": true,
    "slideshow": {
     "slide_type": "slide"
    }
   },
   "source": [
    "## *Difference Image Analysis* (DIA)"
   ]
  },
  {
   "cell_type": "markdown",
   "metadata": {
    "deletable": true,
    "editable": true,
    "slideshow": {
     "slide_type": "fragment"
    }
   },
   "source": [
    "$$  Diff = \\Gamma \\ ( \\ Ref, \\ New \\ )$$  &nbsp;\n",
    "\n",
    "\n",
    "<center>To compare we need a model for the images, and to choose the correct representation of data...</center>"
   ]
  },
  {
   "cell_type": "markdown",
   "metadata": {
    "deletable": true,
    "editable": true,
    "slideshow": {
     "slide_type": "subslide"
    }
   },
   "source": [
    "* Alard & Lupton 1998: \"A Method for Optimal Image Subtraction\"\n",
    "\n",
    "    $$ R \\ (x, y) \\ \\otimes \\ K \\ (u, v) \\cong N(x, y) $$\n",
    "    \n",
    "    $$ D = N - R \\otimes \\mathscr{F}^{-1} \\left( \\frac{\\widehat{N}}{\\widehat{R}} \\right) $$ \n"
   ]
  },
  {
   "cell_type": "markdown",
   "metadata": {
    "slideshow": {
     "slide_type": "fragment"
    }
   },
   "source": [
    "Linearized model with *basis functions*:   \n",
    " \n",
    "$$ K \\ (u, v) = \\sum\\limits_{n} a_n \\ N(\\mu=0, \\sigma_u, \\sigma_v) \\ p_u(u) \\ p_v(v) $$"
   ]
  },
  {
   "cell_type": "markdown",
   "metadata": {
    "deletable": true,
    "editable": true,
    "slideshow": {
     "slide_type": "fragment"
    }
   },
   "source": [
    "$$Q = \\sum \\lvert N - (Ref \\otimes K) \\rvert^2 $$"
   ]
  },
  {
   "cell_type": "markdown",
   "metadata": {
    "deletable": true,
    "editable": true,
    "slideshow": {
     "slide_type": "subslide"
    }
   },
   "source": [
    "* Bramich 2008: \"A new algorithm for difference image analysis\"\n",
    "\n",
    "    $$ N_{ij}=\\sum\\limits_{l, m} K_{lm}R_{i+l, j+m}  + B_0 $$"
   ]
  },
  {
   "cell_type": "markdown",
   "metadata": {
    "collapsed": true,
    "deletable": true,
    "editable": true,
    "slideshow": {
     "slide_type": "subslide"
    }
   },
   "source": [
    "* Zackay, Ofek, Gal-Yam (2016) $$R(x, y) = T(x, y) \\otimes P_R(u, v, x, y)  + \\epsilon_R $$"
   ]
  },
  {
   "cell_type": "markdown",
   "metadata": {
    "slideshow": {
     "slide_type": "fragment"
    }
   },
   "source": [
    "$$ N(x, y) = T(x, y) \\otimes P_N(u, v, x, y)  + \\epsilon_N $$ "
   ]
  },
  {
   "cell_type": "markdown",
   "metadata": {
    "slideshow": {
     "slide_type": "fragment"
    }
   },
   "source": [
    "<center>**Hypothesis test:**</center>\n",
    "\n",
    "\n",
    "$$ N_{|H_0}(x, y) = T(x, y) \\otimes P_N(u, v)  + \\epsilon_N $$"
   ]
  },
  {
   "cell_type": "markdown",
   "metadata": {
    "slideshow": {
     "slide_type": "fragment"
    }
   },
   "source": [
    "$$ N_{|H_1(q, \\alpha)}(x, y) = (T(x, y) + \\alpha \\delta_q(x,y)) \\otimes P_N(u,v) + \\epsilon_N $$"
   ]
  },
  {
   "cell_type": "markdown",
   "metadata": {
    "slideshow": {
     "slide_type": "subslide"
    }
   },
   "source": [
    "<center>The *likelihood ratio* of this binary test:</center>\n",
    "\n",
    "\n",
    "$$ \\mathcal{L} (q, \\alpha) = \\frac{\\mathcal{P}(N, R | \\mathcal{H}_0)}{\\mathcal{P}(N, R | \\mathcal{H}_1(q, \\alpha))} $$"
   ]
  },
  {
   "cell_type": "markdown",
   "metadata": {
    "slideshow": {
     "slide_type": "fragment"
    }
   },
   "source": [
    "<center>Maximising the *likelihood* is the same as to maximize the statistic $S$:</center>\n",
    "\n",
    "\n",
    "$$ \\widehat{S} \\equiv \\widehat{\\frac{1}{\\alpha} \\log{\\mathcal{L}}} $$\n",
    "\n",
    "\n",
    "<center>which is calculated for every $\\alpha$ value simultaneously</center>"
   ]
  },
  {
   "cell_type": "markdown",
   "metadata": {
    "slideshow": {
     "slide_type": "subslide"
    }
   },
   "source": [
    "<center>How to calculate $S$?</center>\n",
    "\n",
    "$$S(x, y) = \\frac{1}{\\sigma^2}\\sum\\limits_{u,v} P(u-x, v-y) N(u,v)$$"
   ]
  },
  {
   "cell_type": "markdown",
   "metadata": {
    "slideshow": {
     "slide_type": "fragment"
    }
   },
   "source": [
    ">We can say that $S$ is the *matched filter* of the image with its own $P$, and it is a Hypothesis testing image **pixel by pixel**"
   ]
  },
  {
   "cell_type": "markdown",
   "metadata": {
    "slideshow": {
     "slide_type": "slide"
    }
   },
   "source": [
    "Something new...?\n",
    "--------------------"
   ]
  },
  {
   "cell_type": "markdown",
   "metadata": {
    "slideshow": {
     "slide_type": "fragment"
    }
   },
   "source": [
    "Source Extractor (Bertin) already was performing matched filter in source detection..."
   ]
  },
  {
   "cell_type": "markdown",
   "metadata": {
    "slideshow": {
     "slide_type": "fragment"
    }
   },
   "source": [
    "The difference lies in the expression for the image subtraction result. \n",
    "\n",
    "S can be calculated (and *much faster*) by going to *Fourier* space:\n",
    "\n",
    "$$\\widehat{S} = \\frac{1}{\\sigma^2} \\ \\lvert \\overline{\\widehat{P}} \\rvert^2 \\ \\widehat{N} $$"
   ]
  },
  {
   "cell_type": "markdown",
   "metadata": {
    "slideshow": {
     "slide_type": "subslide"
    }
   },
   "source": [
    "And as a free bonus we can check the optimal coaddition frame:\n",
    "\n",
    "$$\\widehat{R} = \\frac{\\sum_j \\frac{F_j}{\\sigma_j^2} \\overline{\\widehat{P_j}} \\widehat{N_j}}\n",
    "\t\t   {\\sqrt{\\sum_j \\frac{F_j^2}{\\sigma_j^2} |\\widehat{P_j}|^2} } $$"
   ]
  },
  {
   "cell_type": "markdown",
   "metadata": {
    "slideshow": {
     "slide_type": "fragment"
    }
   },
   "source": [
    "Which is just the sum of each $\\widehat{S}$:\n",
    "\n",
    "$$\\widehat{R} = \\frac{\\sum_j F_j \\ \\widehat{S}_j}\n",
    "\t\t   {\\sqrt{\\sum_j \\frac{F_j^2}{\\sigma_j^2} |\\widehat{P_j}|^2} }$$"
   ]
  },
  {
   "cell_type": "markdown",
   "metadata": {
    "slideshow": {
     "slide_type": "subslide"
    }
   },
   "source": [
    ">And (*finally*) the expression for the difference image\n",
    "\n",
    "> $$ \\widehat{D} = \\frac{F_R \\widehat{P_R} \\widehat{N} - F_N \\widehat{P_N} \\widehat{R}}\n",
    "   {\\sqrt{\\sigma_N^2 F_R^2 |\\widehat{P_R}|^2 + \\sigma_R^2 F_N^2 |\\widehat{P_N}|^2 }}  $$"
   ]
  },
  {
   "cell_type": "markdown",
   "metadata": {
    "slideshow": {
     "slide_type": "fragment"
    }
   },
   "source": [
    "Which has great properties:\n",
    "* Is symmetric \n",
    "* Runs much faster sins this can be done in Fourier space\n",
    "* We don't degrade a high quality R image, we take advantage of its information"
   ]
  },
  {
   "cell_type": "markdown",
   "metadata": {
    "slideshow": {
     "slide_type": "subslide"
    }
   },
   "source": [
    ">And (*finally*) the expression for the difference image\n",
    "\n",
    "> $$ \\widehat{D} = \\frac{F_R \\widehat{P_R} \\widehat{N} - F_N \\widehat{P_N} \\widehat{R}}\n",
    "   {\\sqrt{\\sigma_N^2 F_R^2 |\\widehat{P_R}|^2 + \\sigma_R^2 F_N^2 |\\widehat{P_N}|^2 }}  $$\n",
    "\n",
    "And of course some drawbacks:\n",
    "* You still have to measure the Psf\n",
    "* There is no information for variable Psf treatment"
   ]
  },
  {
   "cell_type": "markdown",
   "metadata": {
    "slideshow": {
     "slide_type": "slide"
    }
   },
   "source": [
    "## The need for Machine Learning\n",
    "\n"
   ]
  }
 ],
 "metadata": {
  "celltoolbar": "Slideshow",
  "kernelspec": {
   "display_name": "Python 2",
   "language": "python",
   "name": "python2"
  },
  "language_info": {
   "codemirror_mode": {
    "name": "ipython",
    "version": 2
   },
   "file_extension": ".py",
   "mimetype": "text/x-python",
   "name": "python",
   "nbconvert_exporter": "python",
   "pygments_lexer": "ipython2",
   "version": "2.7.9"
  }
 },
 "nbformat": 4,
 "nbformat_minor": 2
}
