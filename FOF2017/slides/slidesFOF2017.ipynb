{
 "cells": [
  {
   "cell_type": "markdown",
   "metadata": {
    "slideshow": {
     "slide_type": "slide"
    }
   },
   "source": [
    "# <center> Transient Search with Difference Image Analysis </center>"
   ]
  },
  {
   "cell_type": "markdown",
   "metadata": {
    "slideshow": {
     "slide_type": "fragment"
    }
   },
   "source": [
    "###  <center> Bruno Sánchez, M. Domínguez, M. Lares </center>\n",
    "\n",
    "####  <center> Friends of Friends Meeting </center>\n",
    "####  <center> Córdoba 2017 </center>"
   ]
  },
  {
   "cell_type": "markdown",
   "metadata": {
    "slideshow": {
     "slide_type": "slide"
    }
   },
   "source": [
    "## A transient is...\n",
    "-------------------------------------\n",
    "\n",
    "**Any astrophysical phenomena which happens only once and then decays**\n",
    "\n",
    "\n",
    "<center><img src=\"plots/Supernova_Image_Light_Curve_Spectrum_Illustration_of.gif\" width=600></center>"
   ]
  },
  {
   "cell_type": "markdown",
   "metadata": {
    "slideshow": {
     "slide_type": "subslide"
    }
   },
   "source": [
    "## A transient can be detected when...\n",
    "-------------------------------------\n",
    "\n",
    "**We have data for two different epochs, and we compare them directly**\n",
    "\n",
    "$\\Gamma \\ ( \\vec{D_{t_i}} \\ , \\vec{D_{t_{i+1}}} \\ )$\n",
    " ---------------------------------------------------"
   ]
  },
  {
   "cell_type": "markdown",
   "metadata": {
    "slideshow": {
     "slide_type": "fragment"
    }
   },
   "source": [
    "*Our data are images taken from ground telescopes*"
   ]
  },
  {
   "cell_type": "markdown",
   "metadata": {
    "slideshow": {
     "slide_type": "fragment"
    }
   },
   "source": [
    "\n",
    "**But what kind of function is $\\Gamma$??**\n"
   ]
  },
  {
   "cell_type": "markdown",
   "metadata": {
    "slideshow": {
     "slide_type": "slide"
    }
   },
   "source": [
    "## *Difference Image Analysis* (DIA)"
   ]
  },
  {
   "cell_type": "markdown",
   "metadata": {
    "slideshow": {
     "slide_type": "notes"
    }
   },
   "source": [
    "To compare we need a model for the images, and to choose the correct representation of data..."
   ]
  },
  {
   "cell_type": "markdown",
   "metadata": {
    "slideshow": {
     "slide_type": "fragment"
    }
   },
   "source": [
    "$$  Diff = \\Gamma \\ ( \\ Ref, \\ New \\ )$$"
   ]
  },
  {
   "cell_type": "markdown",
   "metadata": {
    "slideshow": {
     "slide_type": "fragment"
    }
   },
   "source": [
    "* Alard & Lupton 1998: \"A Method for Optimal Image Subtraction\"\n",
    "\n",
    "    $$ R \\ (x, y) \\ \\otimes \\ K \\ (u, v) \\cong N(x, y) $$\n",
    "    \n",
    "    $$ K \\ (u, v) = \\sum\\limits_{n} a_n \\ N(\\mu=0, \\sigma_u, \\sigma_v) \\ p_u(u) \\ p_v(v) $$"
   ]
  },
  {
   "cell_type": "markdown",
   "metadata": {
    "slideshow": {
     "slide_type": "subslide"
    }
   },
   "source": [
    "$$ D = N - R \\otimes \\mathscr{F}^{-1} \\left( \\frac{\\widehat{N}}{\\widehat{K}} \\right) $$ "
   ]
  },
  {
   "cell_type": "markdown",
   "metadata": {},
   "source": [
    "* Bramich 2008: \"A new algorithm for difference image analysis\"\n",
    "\n",
    "    $$ N_{ij}=\\sum\\limits_{l, m} K_{lm}R_{i+l, j+m}  + B_0 $$"
   ]
  },
  {
   "cell_type": "code",
   "execution_count": null,
   "metadata": {
    "collapsed": true
   },
   "outputs": [],
   "source": []
  }
 ],
 "metadata": {
  "celltoolbar": "Slideshow",
  "kernelspec": {
   "display_name": "Python 2",
   "language": "python",
   "name": "python2"
  },
  "language_info": {
   "codemirror_mode": {
    "name": "ipython",
    "version": 2
   },
   "file_extension": ".py",
   "mimetype": "text/x-python",
   "name": "python",
   "nbconvert_exporter": "python",
   "pygments_lexer": "ipython2",
   "version": "2.7.12"
  }
 },
 "nbformat": 4,
 "nbformat_minor": 2
}
