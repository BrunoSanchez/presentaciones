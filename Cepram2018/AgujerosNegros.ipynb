{
 "cells": [
  {
   "cell_type": "markdown",
   "metadata": {
    "slideshow": {
     "slide_type": "slide"
    }
   },
   "source": [
    "## Una breve introducción a Agujeros Negros\n",
    "\n",
    "<img src='./figuras/agujeros_negros/13aa182b137c3e6678f78fc49fcafe9d.gif'>"
   ]
  },
  {
   "cell_type": "markdown",
   "metadata": {
    "slideshow": {
     "slide_type": "subslide"
    }
   },
   "source": [
    "## Empecemos por los principios..."
   ]
  },
  {
   "cell_type": "markdown",
   "metadata": {
    "slideshow": {
     "slide_type": "fragment"
    }
   },
   "source": [
    "### Recordemos los principios o \"Leyes de *Newton*\":\n",
    "* **Inercia**: todo cuerpo permanece en estado de reposo o movimiento a menos que sea sometido a una fuerza externa\n",
    "* Definición de **fuerza**: es la masa por la aceleracion de un cuerpo\n",
    "* Ley de **acción-reacción**: por cada acción hay una reacción igual y en sentido opuesto"
   ]
  },
  {
   "cell_type": "markdown",
   "metadata": {
    "slideshow": {
     "slide_type": "fragment"
    }
   },
   "source": [
    "<img src='./figuras/agujeros_negros/principio_accion_reaccion.gif'>"
   ]
  },
  {
   "cell_type": "markdown",
   "metadata": {
    "slideshow": {
     "slide_type": "subslide"
    }
   },
   "source": [
    "Ley de **gravitacion** de Newton:\n",
    "\n",
    "$|\\vec{F}_g| = m \\frac{GM}{r^2}$\n",
    "\n",
    "<img src='./figuras/agujeros_negros/Tierra-luna.jpg'>"
   ]
  },
  {
   "cell_type": "markdown",
   "metadata": {
    "slideshow": {
     "slide_type": "fragment"
    }
   },
   "source": [
    "* $M$ = Masa *gravitacional*\n",
    "* $m$ = Masa *inercial*\n",
    "* $G$ = Constante universal de la gravedad\n",
    "* $r$ = distancia entre los cuerpos"
   ]
  },
  {
   "cell_type": "markdown",
   "metadata": {
    "slideshow": {
     "slide_type": "slide"
    }
   },
   "source": [
    "### Recordemos el nuevo planteo desarrollado por *Einstein*:\n",
    "\n",
    "* **Principio de equivalencia**: la aceleracion gravitatoria causada por un cuerpo masivo tiene efectos equivalentes a los de estar en un marco de referencia acelerado\n",
    "\n",
    "<img src='./figuras/agujeros_negros/el_principio_de_equivalencia.png'>"
   ]
  },
  {
   "cell_type": "markdown",
   "metadata": {
    "slideshow": {
     "slide_type": "subslide"
    }
   },
   "source": [
    "* La **velocidad de la luz es constante** independientemente del observador\n",
    "\n",
    "<img src='./figuras/agujeros_negros/Konstanz_der_Lichtgeschwindigkeit.png'>"
   ]
  },
  {
   "cell_type": "markdown",
   "metadata": {
    "collapsed": true,
    "slideshow": {
     "slide_type": "subslide"
    }
   },
   "source": [
    "* La masa **gravitatoria** $M$ es *conceptualmente identica* a la **masa inercial** $m$\n",
    " \n",
    " Esto es lo que el principio de equivalencia esta indicando.\n",
    " \n",
    "\n",
    "Experimentos confirman que   $\\left|\\frac{M_g}{M_i} - 1\\right| < 10^{-13}$"
   ]
  },
  {
   "cell_type": "markdown",
   "metadata": {
    "slideshow": {
     "slide_type": "fragment"
    }
   },
   "source": [
    "Por ultimo, la conclusion mas fuerte de esta teoria de la gravedad y el movimiento es que\n",
    "\n",
    "* La gravedad no es una fuerza. \n",
    " \n",
    "  Es simplemente la curvatura de algo llamado *espacio-tiempo*"
   ]
  },
  {
   "cell_type": "markdown",
   "metadata": {
    "slideshow": {
     "slide_type": "subslide"
    }
   },
   "source": [
    "El **espacio-tiempo** es, en cierta forma la *tela* del espacio...\n",
    "\n",
    "La velocidad constante de la luz fuerza que los observadores no esten de acuerdo respecto al paso del tiempo, o el tamaño de las cosas"
   ]
  },
  {
   "cell_type": "markdown",
   "metadata": {
    "slideshow": {
     "slide_type": "subslide"
    }
   },
   "source": [
    "<img src='./figuras/agujeros_negros/resolucion_problema_A.PNG'>"
   ]
  },
  {
   "cell_type": "code",
   "execution_count": 14,
   "metadata": {
    "collapsed": true,
    "slideshow": {
     "slide_type": "skip"
    }
   },
   "outputs": [],
   "source": [
    "from IPython.display import HTML"
   ]
  },
  {
   "cell_type": "code",
   "execution_count": 19,
   "metadata": {
    "slideshow": {
     "slide_type": "subslide"
    }
   },
   "outputs": [
    {
     "data": {
      "text/html": [
       "<iframe width=\"560\" height=\"315\" src=\"https://www.youtube.com/embed/SdWBw98DnI8\" frameborder=\"0\" allow=\"autoplay; encrypted-media\" allowfullscreen></iframe>"
      ],
      "text/plain": [
       "<IPython.core.display.HTML object>"
      ]
     },
     "execution_count": 19,
     "metadata": {},
     "output_type": "execute_result"
    }
   ],
   "source": [
    "HTML('<iframe width=\"560\" height=\"315\" src=\"https://www.youtube.com/embed/SdWBw98DnI8\" frameborder=\"0\" allow=\"autoplay; encrypted-media\" allowfullscreen></iframe>')"
   ]
  },
  {
   "cell_type": "markdown",
   "metadata": {
    "slideshow": {
     "slide_type": "subslide"
    }
   },
   "source": [
    "Mas aun, los observadores pueden ver distintas masas de los cuerpos...\n",
    "\n",
    "La ecuacion que define esto es la mas famosa de todas las que einstein propuso, a pesar de ser no fundamental.\n",
    "\n",
    "$ E = M c^2$\n",
    "\n",
    "Ya que esta ecuacion vale para objetos en reposo."
   ]
  },
  {
   "cell_type": "markdown",
   "metadata": {
    "slideshow": {
     "slide_type": "slide"
    }
   },
   "source": [
    "La ecuacion mas relevante de **Einstein** es la que vincula el espacio tiempo a la materia y energia...\n",
    "\n",
    "Es decir, como se curva el espacio tiempo debido a la presencia de contenido en el universo."
   ]
  },
  {
   "cell_type": "markdown",
   "metadata": {
    "slideshow": {
     "slide_type": "fragment"
    }
   },
   "source": [
    "$$ R_{\\mu \\nu} - \\frac{1}{2} R g_{\\mu \\nu } + \\Lambda g_{\\mu \\nu}= \\frac{8 \\pi G}{4 c^4} T_{\\mu \\nu}$$"
   ]
  },
  {
   "cell_type": "markdown",
   "metadata": {
    "slideshow": {
     "slide_type": "fragment"
    }
   },
   "source": [
    "Son ecuaciones tensoriales, no lineales. \n",
    "\n",
    "La incognita es $g_{\\mu\\nu}$ quien describe la forma del espacio tiempo.\n",
    "\n",
    "Los valores conocidos estan del lado derecho, dentro de $T_{\\mu \\nu}$ \n",
    "\n",
    "$R_{\\mu \\nu}$ es el tensor de Ricci, es quien describe la curvatura del espacio tiempo, \n",
    "con $R$ el escalar de Ricci, valor que da el signo de esta curvatura.\n"
   ]
  },
  {
   "cell_type": "markdown",
   "metadata": {
    "slideshow": {
     "slide_type": "subslide"
    }
   },
   "source": [
    "*«El espacio-tiempo le dice a la materia cómo moverse; la materia le dice al espacio-tiempo cómo curvarse».*\n",
    "\n",
    "En palabras de Wheeler sobre la teoría de la relatividad general de Einstein."
   ]
  },
  {
   "cell_type": "markdown",
   "metadata": {
    "slideshow": {
     "slide_type": "slide"
    }
   },
   "source": [
    "### La primera solucion de las ecuaciones: Schwarzschild"
   ]
  },
  {
   "cell_type": "markdown",
   "metadata": {
    "slideshow": {
     "slide_type": "fragment"
    }
   },
   "source": [
    "La primer solucion vino rapidamente: el mismo año de la publicacion de la Relatividad General, Einstein recibe una carta desde el frente de guerra, de parte de Schwarzschild con la primer solucion exacta a sus ecuciones."
   ]
  },
  {
   "cell_type": "markdown",
   "metadata": {
    "slideshow": {
     "slide_type": "fragment"
    }
   },
   "source": [
    "$d\\tau^2 = f dt^2 - \\frac{1}{f} dr^2 + r^2 (d\\theta^2 + sin^2 \\theta d\\phi^2)$\n",
    "\n",
    "$f = 1 - \\frac{2 G M}{c^2 r}$"
   ]
  },
  {
   "cell_type": "markdown",
   "metadata": {
    "slideshow": {
     "slide_type": "subslide"
    }
   },
   "source": [
    "$d\\tau^2 = f dt^2 - \\frac{1}{f} dr^2 + r^2 (d\\theta^2 + sin^2 \\theta d\\phi^2)$\n",
    "\n",
    "$f = 1 - \\frac{2 G M}{c^2 r}$"
   ]
  },
  {
   "cell_type": "markdown",
   "metadata": {
    "slideshow": {
     "slide_type": "fragment"
    }
   },
   "source": [
    "* $s$ es el tiempo propio de un observador\n",
    "* $t$ es la coordenada tiempo\n",
    "* $r$ es la direccion radial\n",
    "* $\\theta$ es una especie de latitud\n",
    "* $\\phi$ es una longitud"
   ]
  },
  {
   "cell_type": "markdown",
   "metadata": {
    "slideshow": {
     "slide_type": "subslide"
    }
   },
   "source": [
    "<img src='./figuras/agujeros_negros/1200px-World_line-es.svg.png' width=420>"
   ]
  },
  {
   "cell_type": "markdown",
   "metadata": {
    "slideshow": {
     "slide_type": "subslide"
    }
   },
   "source": [
    "<img src='./figuras/agujeros_negros/27c518672e8aa2b372107cca7726603f.jpg' width=720>"
   ]
  },
  {
   "cell_type": "code",
   "execution_count": 20,
   "metadata": {
    "slideshow": {
     "slide_type": "subslide"
    }
   },
   "outputs": [
    {
     "data": {
      "text/html": [
       "<iframe width=\"560\" height=\"315\" src=\"https://www.youtube.com/embed/MTY1Kje0yLg?start=34\" frameborder=\"0\" allow=\"autoplay; encrypted-media\" allowfullscreen></iframe>"
      ],
      "text/plain": [
       "<IPython.core.display.HTML object>"
      ]
     },
     "execution_count": 20,
     "metadata": {},
     "output_type": "execute_result"
    }
   ],
   "source": [
    "HTML('<iframe width=\"560\" height=\"315\" src=\"https://www.youtube.com/embed/MTY1Kje0yLg?start=34\" frameborder=\"0\" allow=\"autoplay; encrypted-media\" allowfullscreen></iframe>')"
   ]
  },
  {
   "cell_type": "markdown",
   "metadata": {
    "slideshow": {
     "slide_type": "slide"
    }
   },
   "source": [
    "### La singularidad... Que es?\n"
   ]
  },
  {
   "cell_type": "markdown",
   "metadata": {
    "slideshow": {
     "slide_type": "subslide"
    }
   },
   "source": [
    "Es un punto matematico donde uno de los valores de la metrica solucion esta indefinido.\n",
    "\n",
    "Esto es lo mismo que decir que es una region del espacio tiempo que tiene indefinida el comportamiento de los objetos, digamos las leyes fisicas se pierden."
   ]
  },
  {
   "cell_type": "markdown",
   "metadata": {
    "slideshow": {
     "slide_type": "fragment"
    }
   },
   "source": [
    "<img src='./figuras/agujeros_negros/bh_lightcones_st.gif'>"
   ]
  },
  {
   "cell_type": "markdown",
   "metadata": {
    "slideshow": {
     "slide_type": "slide"
    }
   },
   "source": [
    "<img src='./figuras/agujeros_negros/main-qimg-c11a2a631a2a1ca7b61ed7948ddf308e-c.jpeg'>"
   ]
  },
  {
   "cell_type": "markdown",
   "metadata": {
    "slideshow": {
     "slide_type": "subslide"
    }
   },
   "source": [
    "## Prediccion teorica o algo mas??\n",
    "\n",
    "Evidencias de la existencia de los agujeros negros es amplia hoy en dia\n",
    "\n",
    "La primera evidencia fue la defleccion de rayos luminosos durante un eclipse solar"
   ]
  },
  {
   "cell_type": "markdown",
   "metadata": {
    "slideshow": {
     "slide_type": "fragment"
    }
   },
   "source": [
    "<img src='./figuras/agujeros_negros/maxresdefault.jpg' width=600>"
   ]
  },
  {
   "cell_type": "markdown",
   "metadata": {
    "slideshow": {
     "slide_type": "subslide"
    }
   },
   "source": [
    "<img src='./figuras/agujeros_negros/Schematic-illustration-of-light-deflection-by-the-Sun.jpg'>"
   ]
  },
  {
   "cell_type": "markdown",
   "metadata": {
    "slideshow": {
     "slide_type": "subslide"
    }
   },
   "source": [
    "### Evidencias en las lentes gravitacionales\n",
    "\n",
    "<img src='./figuras/agujeros_negros/15861603283_3579db3fc6_o.jpg' width=600>"
   ]
  },
  {
   "cell_type": "markdown",
   "metadata": {
    "slideshow": {
     "slide_type": "subslide"
    }
   },
   "source": [
    "### La fuente de rayos X Cygnus X-1\n",
    "\n",
    "<img src='./figuras/agujeros_negros/Cygnus_X-1.png' width=600>"
   ]
  },
  {
   "cell_type": "markdown",
   "metadata": {
    "slideshow": {
     "slide_type": "subslide"
    }
   },
   "source": [
    "### Y ultimamente las evidencias de las ondas gravitacionales\n",
    "\n",
    "<img src='./figuras/agujeros_negros/thirdgravita.jpg' width=600>"
   ]
  },
  {
   "cell_type": "markdown",
   "metadata": {
    "slideshow": {
     "slide_type": "slide"
    }
   },
   "source": [
    "## Distintas singularidades"
   ]
  },
  {
   "cell_type": "markdown",
   "metadata": {
    "slideshow": {
     "slide_type": "fragment"
    }
   },
   "source": [
    "En esta solucion la singularidad es temporal... digamos que el tiempo tiene *fin*.\n",
    "\n",
    "Existen muchas otras soluciones. No todas tienen singularidades\n",
    "\n",
    "Pero hay otras singularidades, como la de un objeto **rotando**\n",
    "\n",
    "<img src='./figuras/agujeros_negros/https___arxiv_org_pdf_0706_0622_pdf.jpg' width=400>"
   ]
  }
 ],
 "metadata": {
  "celltoolbar": "Slideshow",
  "kernelspec": {
   "display_name": "Python 2",
   "language": "python",
   "name": "python2"
  },
  "language_info": {
   "codemirror_mode": {
    "name": "ipython",
    "version": 2
   },
   "file_extension": ".py",
   "mimetype": "text/x-python",
   "name": "python",
   "nbconvert_exporter": "python",
   "pygments_lexer": "ipython2",
   "version": "2.7.9"
  }
 },
 "nbformat": 4,
 "nbformat_minor": 2
}
