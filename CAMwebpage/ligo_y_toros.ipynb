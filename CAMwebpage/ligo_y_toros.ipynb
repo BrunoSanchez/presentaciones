{
 "cells": [
  {
   "cell_type": "markdown",
   "metadata": {},
   "source": [
    "# Campañas de observación TOROS - LIGO\n",
    "\n",
    "TOROS forma parte de un grupo de observatorios que han firmado el denominado *Memorandum of Understanding* para compartir información entre LIGO y la comunidad astronómica alrededor del mundo. Este acuerdo habilita a TOROS a realizar observaciones para confirmar el origen de las Ondas Gravitacionales, permitiéndole obtener de primera mano resultados parciales de LIGO y las detecciones de eventos interesantes.\n",
    "\n",
    "## Resultados de O1\n",
    "\n",
    "De esta forma, la colaboración TOROS ha participado en las campañas observacionales de la etapa *Avanzada* de LIGO.\n",
    "Esta etapa se caracteriza por un incremento en la tecnología invertida en el Observatorio Gravitacional de Interferometría Laser, entregando una sensibilidad entre 10 y 100 veces mayor que su predecesor.\n",
    "Esto le capacita al observatorio LIGO detectar Ondas Gravitacionales de fuentes más alejadas que antes, teniendo gran impacto en la cantidad de detecciones esperadas.\n",
    "\n",
    "<img src='images/faq-aligo-reach.png' style=\"width:550px;height:540px;\">\n",
    "\n",
    "Las campañas de observación de LIGO se dan por temporadas, siendo la primer temporada desde el 18 de Septiembre de 2015 hasta el 12 de Enero de 2016, denominada **O1**. \n",
    "\n",
    "### La primera detección de una Onda Gravitacional\n",
    "\n",
    "La primer detección de un evento de Ondas Gravitacionales ocurrió el pasado 14 de Septiembre de 2015, 4 días antes del inicio programado de las observaciones de la campaña O1, y durante el proceso de calibración (el cual toma varios meses) de los instrumentos de LIGO. En medio de la incertidumbre y la sorpresa, los científicos de LIGO decidieron hacer pública su medición a la comunidad de astrónomos, quienes recibieron un mapa de la probable ubicación del evento a lo largo del firmamento. La figura debajo muestra este mapa, el cual como dato interesante, esta prominentemente orientado hacia el hemisferio sur.\n",
    "\n",
    "<img src='images/contours.png' style=\"width:600px;\">\n",
    "\n",
    "### El seguimiento de la colaboración TOROS\n",
    "\n",
    "Astrónomos del Instituto IATE y de UTRGV se encontraban en ese preciso instante llevando a cabo ejercicios de preparación para O1 en el telescopio de 1,54 m de la Estación Astrofísica de Bosque Alegre. \n",
    "Esta afortunada coincidencia permitió que LIGO detectara una fusión de Agujeros Negros por primera vez y la colaboración TOROS pudiese aportar mediciones de valor para el seguimiento de este evento histórico.\n",
    "\n",
    "Como se mencionó anteriormente la orientación particular de el mapa de ubicación celeste favorecía enormemente a los observatorios del hemisferio sur. De esta forma el equipo de observadores de TOROS realizaron adquisiciones de imágenes de un grupo de galaxias cercanas al máximo de la distribución de probabilidad en el cielo de LIGO.\n",
    "En la imagen debajo se puede notar en rojo las observaciones realizadas durante el seguimiento el mes de Septiembre de 2015.\n",
    "\n",
    "<img src='images/observaciones.png' style=\"width:500px;\" >\n",
    "\n",
    "### Los resultados obtenidos\n",
    "\n",
    "Las observaciones continuaron semanas después del evento, generando cobertura temporal de la alerta.\n",
    "En cuanto a este aspecto la comunidad de astrónomos de LIGO publicó la búsqueda de contraparte lumínica de la detección de la onda gravitacional de forma conjunta, y se puede ver en detalle en la imagen debajo, cómo a lo largo de los días posteriores a la alerta TOROS se dedicó a aportar datos.\n",
    "\n",
    "<img src='images/timeline.png' style=\"width:1000px;\">\n",
    "\n",
    "La cobertura en el cielo de la alerta se puede apreciar en la figura debajo, donde es posible ver en diferentes colores (respetando los colores de la figura de la línea temporal) las imágenes obtenidas para cada rango del espectro electromagńetico, por diferentes instrumentos. El aporte realizado desde TOROS se puede apreciar sobre todo el la zona sur, donde existen un gran solapamiento de observaciones.\n",
    "\n",
    "<img src='images/tiles.png' style=\"width:800px;\">\n",
    "\n",
    "Este resultado se publicó como un *paper* inicial de TOROS, donde compartimos el resultado de la comunidad, el cual establece que no hubo detección de un evento significativo.\n",
    "\n",
    "### La segunda detección de una Onda Gravitacional\n",
    "\n",
    "TOROS se mantuvo conectado con LIGO a lo largo de todo O1, y participamos de la segunda detección, la cual se efectuó un día después de la navidad de 2015, es decir el 26 de Diciembre.\n",
    "\n",
    "Durante estas fechas las condiciones climáticas impidieron realizar observaciones relevantes al equipo de TOROS, aunque si reportamos haber recibido y procesado la alerta.\n",
    "\n",
    "La misma se encontró mucho más orientada hacia el hemisferio Norte, lo cual también era desfavorable para los astrónomos de Córdoba.\n",
    "\n",
    "## La campaña de LIGO O2\n",
    "\n",
    "Durante el 2016 y parte de 2017 hasta la fecha de esta publicación, la colaboración TOROS participó y participa de los seguimientos de detecciones de Ondas Gravitacionales.\n",
    "\n",
    "Durante esta etapa las observaciones se siguen llevando a cabo en Bosque Alegre, así como en otras locaciones, producto de colaboraciones con astrónomos de México y Chile."
   ]
  }
 ],
 "metadata": {
  "kernelspec": {
   "display_name": "Python 2",
   "language": "python",
   "name": "python2"
  },
  "language_info": {
   "codemirror_mode": {
    "name": "ipython",
    "version": 2
   },
   "file_extension": ".py",
   "mimetype": "text/x-python",
   "name": "python",
   "nbconvert_exporter": "python",
   "pygments_lexer": "ipython2",
   "version": "2.7.9"
  }
 },
 "nbformat": 4,
 "nbformat_minor": 2
}
