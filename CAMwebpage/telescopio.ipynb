{
 "cells": [
  {
   "cell_type": "markdown",
   "metadata": {},
   "source": [
    "## Telescopio\n",
    "\n",
    "### Diseño instrumental\n",
    "\n",
    "El telescopio propuesto para trabajar con TOROS es un instrumento de un diámetro de apertura de 1 metro, y una cámara CCD de clase astronómica de gran cantidad de pixeles.\n",
    "\n",
    "El instrumento en diseño contempla la utilización de una placa correctora de campo, capaz de agrandar dramáticamente el área del cielo que el telescopio es capaz de fotografiar. Esto posibilitaría realizar búsquedas de variaciones de brillo de los cuerpos celestes de forma sistemática y automatizada.\n",
    "\n",
    "La característica de campo amplio aumenta enormemente las probabilidades de encontrar objetos de gran interés astrofísico. La diferencia con respecto a un campo de visión de un telescopio normal puede apreciarse en la figura (lunas y campos de visión).\n",
    "\n",
    "<img src='images/lunas.jpg' style=\"width:400px;\">\n",
    "\n",
    "------------\n",
    "\n",
    "### Características operativas\n",
    "\n",
    "El telescopio TOROS en su diseño original trabajaría de forma remota, mediante conexiones de internet, ya que la ubicación geográfica hacen que tareas de operación *in situ* se conviertan en impracticables.\n",
    "\n",
    "A raíz de esto el equipo de trabajo del IATE desarrolló junto con colaboradores en UTRGV, software de análisis de datos remotos, capaces de procesar la información colectada en forma de imágenes, y determinar si hay un descubrimiento nuevo sin necesidad de visitar el observatorio.\n",
    "\n",
    "<img src='images/macon.png' style=\"width:800px;\">\n",
    "\n",
    "\n",
    "-------\n",
    "### Proyecto piloto\n",
    "\n",
    "El proyecto TOROS cuenta con un desarrollo piloto previo, que en la actualidad esta en etapa de reinstalación en la base del cordón Macón. El mismo se basa en telescopios de calidad comercial, de alta gama. Se utilizan telescopios Meade de 16 pulgadas de diámetro (aproximadamente 40 cm), con óptica de alta calidad, tomando imágenes por primera vez el 13 de Abril de 2014. Abajo se puede ver una imagen del cúmulo de Omega Centauri, de gran significado para el Observatorio de Córdoba, al ser el primero objeto observado en la Estación Astrofísica de Bosque Alegre.\n",
    "\n",
    "<img src='images/Omega_Cent_20140413_Toritos.jpg' style=\"width:400px;\">"
   ]
  },
  {
   "cell_type": "code",
   "execution_count": null,
   "metadata": {
    "collapsed": true
   },
   "outputs": [],
   "source": []
  }
 ],
 "metadata": {
  "kernelspec": {
   "display_name": "Python 2",
   "language": "python",
   "name": "python2"
  },
  "language_info": {
   "codemirror_mode": {
    "name": "ipython",
    "version": 2
   },
   "file_extension": ".py",
   "mimetype": "text/x-python",
   "name": "python",
   "nbconvert_exporter": "python",
   "pygments_lexer": "ipython2",
   "version": "2.7.9"
  }
 },
 "nbformat": 4,
 "nbformat_minor": 2
}
