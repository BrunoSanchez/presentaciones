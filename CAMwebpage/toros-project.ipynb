{
 "cells": [
  {
   "cell_type": "markdown",
   "metadata": {},
   "source": [
    "\n",
    "## Toros\n",
    "\n",
    "El proyecto TOROS propone un telescopio con un diseño instrumental capaz de identificar estallidos de objetos del espacio intergalactico a miles de millones de años luz de distancia de la tierra. Esto se debe a una cámara CCD de gran campo de visión, que le permitiría \"filmar\" el cielo, en búsqueda de mínimas variaciones en el brillo de las estrellas en nuestra galaxia y en otras también.\n",
    "\n",
    "Esto tiene aplicación en muchas áreas de la investigación astrofísica, ya que es ideal para medir las variaciones en los cuerpos celestes más distantes, explosiones de estrellas tales como la Supernova de la animación, y en particular para identificar choques entre estrellas y/o agujeros negros.\n",
    "\n",
    "<img src='gifs/giphy.gif' style=\"width:400px;\">\n",
    "\n",
    "Un choque entre estos objetos extremadamente compactos produciría distorsiones en la gravedad, que se manifestarían en las llamadas Ondas Gravitacionales, y en cantidades increíbles de energía lumínica. En la figura debajo, se aprecian los diferentes estadíos en la vida de estos objetos. En el primer panel se pueden ver ambos objetos en orbitas cada vez más cercanas, irradiando ondas de gravedad al espacio; en el segundo panel se muestra el brillo producto del choque; en el tercer panel el material expulsado por el evento, y en el último panel el objeto remanente.\n",
    "\n",
    "<img src='images/merger_model.png' style=\"width:400px;\">\n",
    "\n",
    "El Observatorio Gravitacional de Interferometría Laser (LIGO en inglés), es capaz de detectar las ondulaciones del espacio-tiempo producidas durante la primer etapa de la fusión, es decir las Ondas Gravitacionales.\n",
    "Para esto utilizan grandes túneles semi-subterráneos, por donde viajan haces de luz Láser, que es reflejada por espejos cuasi-perfectos. Estos túneles poseen forma de L, y poseen longitudes de 4 km en cada uno de los brazos, sin mencionar que existen dos idénticos que se encuentran en ambos extremos de los Estados Unidos y funcionan en conjunto. En la figura se muestran ambos detectores, uno ubicado en Livingston Lousiana, y el segundo en Hanford Washington.\n",
    "\n",
    "<img src='images/ligodetectors.jpg' style=\"width:500px;\">\n",
    "\n",
    "TOROS trabaja en conjunto con LIGO compartiendo información de estos eventos, para así medir la posición, brillo, distancia y propiedades físicas de los objetos que se fusionaron. \n",
    "\n",
    "--------------------\n",
    "\n",
    "El primer instrumento del proyecto TOROS es un telescopio robotizado comandado a través de una conexión de internet. Es un aparato piloto que hace uso de un telescopio de 16 pulgadas de diámetro (40 cm), con una cámara CCD de uso astronómico. Actualmente, se están finalizando las obras de construcción del recinto que lo albergará. Esa infraestructura tiene el tamaño de una habitación promedio y un techo que se desplaza para permitir el trabajo de observación.\n",
    "\n",
    "<img src='images/toritos_1.png' style=\"width:400px;\">"
   ]
  }
 ],
 "metadata": {
  "kernelspec": {
   "display_name": "Python 2",
   "language": "python",
   "name": "python2"
  },
  "language_info": {
   "codemirror_mode": {
    "name": "ipython",
    "version": 2
   },
   "file_extension": ".py",
   "mimetype": "text/x-python",
   "name": "python",
   "nbconvert_exporter": "python",
   "pygments_lexer": "ipython2",
   "version": "2.7.9"
  }
 },
 "nbformat": 4,
 "nbformat_minor": 2
}
